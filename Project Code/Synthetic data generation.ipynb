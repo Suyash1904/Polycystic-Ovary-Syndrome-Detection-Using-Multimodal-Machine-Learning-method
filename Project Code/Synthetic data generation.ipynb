{
 "cells": [
  {
   "cell_type": "code",
   "execution_count": null,
   "id": "8f2f589b",
   "metadata": {},
   "outputs": [],
   "source": [
    "import pandas as pd\n",
    "import numpy as np\n",
    "\n",
    "\n",
    "# Load the dataset\n",
    "file_path = r\"/Users/hari/Desktop/College/Machineeeeeeeeee/pcos_rotterdam_balanceado.csv\"  \n",
    "df = pd.read_excel(file_path)"
   ]
  },
  {
   "cell_type": "code",
   "execution_count": null,
   "id": "2fbf5d86",
   "metadata": {},
   "outputs": [],
   "source": [
    "import random\n",
    "import numpy as np\n",
    "import torch\n",
    " \n",
    "# Set random seeds for reproducibility\n",
    "seed = 42\n",
    "random.seed(seed)\n",
    "np.random.seed(seed)\n",
    "torch.manual_seed(seed)\n",
    " \n",
    "import pandas as pd\n",
    "from ctgan import CTGAN\n",
    " \n",
    "# Step 2: Train CTGAN on your original data\n",
    "model = CTGAN(epochs=500)  # You can adjust epochs for quality\n",
    "model.fit(df)\n",
    " \n",
    "# Step 3: Generate 3000 synthetic rows\n",
    "synthetic_data = model.sample(3000)\n",
    "\n",
    "\n",
    "extended_df = pd.concat([df, synthetic_data], ignore_index=True)\n",
    "# Optional: View shape or sample\n",
    "print(f\"Extended dataset shape: {extended_df.shape}\")\n",
    "print(extended_df.tail())  # Shows the last few synthetic rows\n",
    "df= extended_df\n",
    "extended_df.to_excel('PCOS TABULAR DATASET',index=false)"
   ]
  },
  {
   "cell_type": "code",
   "execution_count": null,
   "id": "cad9ad35",
   "metadata": {},
   "outputs": [],
   "source": []
  }
 ],
 "metadata": {
  "language_info": {
   "name": "python"
  }
 },
 "nbformat": 4,
 "nbformat_minor": 5
}
